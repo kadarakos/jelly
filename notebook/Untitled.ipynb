{
 "cells": [
  {
   "cell_type": "code",
   "execution_count": 1,
   "id": "79039d8d",
   "metadata": {},
   "outputs": [],
   "source": [
    "%matplotlib inline\n",
    "import numpy as np"
   ]
  },
  {
   "cell_type": "code",
   "execution_count": 35,
   "id": "cbb9884c",
   "metadata": {},
   "outputs": [],
   "source": [
    "import numpy as np\n",
    "def moore(C: np.ndarray, i: int, j: int, size: int) -> np.ndarray:\n",
    "    \"\"\"\n",
    "        + + + + +\n",
    "        + + + + +\n",
    "        + + x + +\n",
    "        + + + + +\n",
    "        + + + + +\n",
    "    \"\"\"\n",
    "    n = sum(8 * s for s in range(1, size + 1))\n",
    "    p = 0\n",
    "    out = np.empty(n, dtype=\"int8\")\n",
    "    for i_ in range(i - size, i + size + 1):\n",
    "        for j_ in range(j - size, j + size + 1):\n",
    "            if i_ == i and j_ == j:\n",
    "                continue\n",
    "            out[p] = C[i_, j_]\n",
    "            p += 1\n",
    "    return out\n",
    "\n",
    "\n",
    "def moore_rim(C: np.ndarray, i: int, j: int, size: int) -> np.ndarray:\n",
    "    \"\"\"\n",
    "        + + + + +\n",
    "        +       +\n",
    "        +   x   +\n",
    "        +       +\n",
    "        + + + + +\n",
    "    \"\"\"\n",
    "    n = 8 * size\n",
    "    p = 0\n",
    "    out = np.empty(n, dtype=\"int8\")\n",
    "    for row in (i - size, i + size):\n",
    "        for j_ in range(j - size, j + size + 1):\n",
    "            print(row, j_)\n",
    "            out[p] = C[row, j_]\n",
    "            p += 1\n",
    "    for column in (j - size, j + size):\n",
    "        for i_ in range(i - size + 1, i + size):\n",
    "            print(i_, column)\n",
    "            out[p] = C[i_, column]\n",
    "            p += 1\n",
    "    return out\n",
    "\n",
    "\n",
    "# TODO\n",
    "def neumann(C: np.ndarray, i: int, j: int, size: int) -> np.ndarray:\n",
    "    \"\"\"\n",
    "            +\n",
    "          + + +\n",
    "        + + x + +\n",
    "          + + +\n",
    "            +\n",
    "    \"\"\"\n",
    "    raise NotImplementedError\n",
    "\n",
    "\n",
    "# TODO\n",
    "def neumann_rim(C: np.ndarray, i: int, j: int, size: int) -> np.ndarray:\n",
    "    \"\"\"\n",
    "            +\n",
    "          +   +\n",
    "        +   x   +\n",
    "          +   +\n",
    "            +\n",
    "    \"\"\"\n",
    "    raise NotImplementedError\n",
    "\n",
    "\n",
    "def cross(C: np.ndarray, i: int, j: int, size: int) -> np.ndarray:\n",
    "    \"\"\"\n",
    "            +\n",
    "            +\n",
    "        + + x + +\n",
    "            +\n",
    "            +\n",
    "    \"\"\"\n",
    "    n = size * 4\n",
    "    p = 0\n",
    "    out = np.empty(n)\n",
    "    for i_ in range(i - size, i + size + 1):\n",
    "        if i_ == i:\n",
    "            continue\n",
    "        out[p] = C[i_, j]\n",
    "        p += 1\n",
    "    for j_ in range(j - size, j + size + 1):\n",
    "        if j_ == j:\n",
    "            continue\n",
    "        out[p] = C[i, j_]\n",
    "        p += 1\n",
    "    return out"
   ]
  },
  {
   "cell_type": "code",
   "execution_count": 36,
   "id": "194a6d3f",
   "metadata": {},
   "outputs": [
    {
     "data": {
      "text/plain": [
       "array([[-1, -1, -1, -1, -1, -1, -1, -1, -1, -1, -1],\n",
       "       [-1, -1, -1, -1, -1, -1, -1, -1, -1, -1, -1],\n",
       "       [-1, -1,  6,  7,  1,  9,  5,  5,  9, -1, -1],\n",
       "       [-1, -1,  7,  2,  3,  7,  1,  1,  6, -1, -1],\n",
       "       [-1, -1,  3,  0,  2,  1,  4,  4,  6, -1, -1],\n",
       "       [-1, -1,  9,  1,  6,  7,  9,  0,  1, -1, -1],\n",
       "       [-1, -1,  6,  6,  5,  8,  1,  3,  1, -1, -1],\n",
       "       [-1, -1, -1, -1, -1, -1, -1, -1, -1, -1, -1],\n",
       "       [-1, -1, -1, -1, -1, -1, -1, -1, -1, -1, -1]])"
      ]
     },
     "execution_count": 36,
     "metadata": {},
     "output_type": "execute_result"
    }
   ],
   "source": [
    "size = 2\n",
    "A = np.random.randint(0, 10, (5, 7))\n",
    "A_pad = np.pad(A, (size, size), constant_values=(-1, -1))\n",
    "A_pad"
   ]
  },
  {
   "cell_type": "code",
   "execution_count": 37,
   "id": "9ad9262c",
   "metadata": {},
   "outputs": [
    {
     "name": "stdout",
     "output_type": "stream",
     "text": [
      "6\n"
     ]
    },
    {
     "data": {
      "text/plain": [
       "array([-1., -1.,  7.,  3., -1., -1.,  7.,  1.])"
      ]
     },
     "execution_count": 37,
     "metadata": {},
     "output_type": "execute_result"
    }
   ],
   "source": [
    "print(A_pad[2, 2])\n",
    "cross(A_pad, 2, 2, size)"
   ]
  },
  {
   "cell_type": "code",
   "execution_count": null,
   "id": "e6d3d800",
   "metadata": {},
   "outputs": [],
   "source": []
  }
 ],
 "metadata": {
  "kernelspec": {
   "display_name": "jelly",
   "language": "python",
   "name": "jelly"
  },
  "language_info": {
   "codemirror_mode": {
    "name": "ipython",
    "version": 3
   },
   "file_extension": ".py",
   "mimetype": "text/x-python",
   "name": "python",
   "nbconvert_exporter": "python",
   "pygments_lexer": "ipython3",
   "version": "3.11.4"
  }
 },
 "nbformat": 4,
 "nbformat_minor": 5
}
